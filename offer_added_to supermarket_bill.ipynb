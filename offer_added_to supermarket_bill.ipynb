{
 "cells": [
  {
   "cell_type": "code",
   "execution_count": 1,
   "metadata": {},
   "outputs": [],
   "source": [
    "class SuperMarket:\n",
    "    \n",
    "    @classmethod\n",
    "    def cal_bill(cls,cart):\n",
    "        total_ammount = 0\n",
    "       \n",
    "        for prod,quantity in cart.items():\n",
    "            if prod.offer != None:\n",
    "                offer_avail = quantity // prod.offer.of_quantity\n",
    "                offer_price = offer_avail * prod.offer.offer_price\n",
    "                remain_quantity = quantity % prod.offer.of_quantity\n",
    "                remain_price = remain_quantity * prod.p_price\n",
    "                total_ammount += offer_price + remain_price\n",
    "            else:\n",
    "                total_ammount += prod.p_price * quantity\n",
    "\n",
    "            prod.update_stock(prod.p_quantity - quantity)\n",
    "\n",
    "        total_ammount += total_ammount * 0.05\n",
    "        return total_ammount\n",
    "\n"
   ]
  },
  {
   "cell_type": "code",
   "execution_count": 2,
   "metadata": {},
   "outputs": [],
   "source": [
    "\n",
    "class Offers:\n",
    "    def __init__(self, of_id,p_id, of_quantity, offer_price, valid_date):\n",
    "        self.of_id = of_id\n",
    "        self.p_id = p_id \n",
    "        self.of_quantity = of_quantity\n",
    "        self.offer_price = offer_price\n",
    "        self.valid_date = valid_date\n",
    "\n",
    "    def remove_offer(self):\n",
    "        id = self.id\n",
    "        del self\n",
    "        return id \n",
    "\n",
    "    def update_offer_quantity(self,new_quntity):\n",
    "        self.of_quantity = new_quntity\n",
    "\n",
    "    def update_offer_price(self,new_price):\n",
    "        self.offer_price = new_price\n",
    "\n"
   ]
  },
  {
   "cell_type": "code",
   "execution_count": 9,
   "metadata": {},
   "outputs": [],
   "source": [
    "\n",
    "class Customer:\n",
    "    def __init__(self,c_id,c_name,c_contact,c_cart = {}):\n",
    "        self.c_id = c_id\n",
    "        self.c_name = c_name\n",
    "        self.c_contact = c_contact\n",
    "        self.c_cart = c_cart\n",
    "        \n",
    "    def add_to_cart(self,prod,quantity):\n",
    "        if prod in self.c_cart:\n",
    "            self.c_cart[prod]= self.c_cart[prod] + quantity\n",
    "        else:\n",
    "            self.c_cart.setdefault(prod,quantity)\n",
    "            \n",
    "    def remove_from_cart(self,prod):\n",
    "        if prod in self.c_cart:\n",
    "            id = prod.p_id\n",
    "            self.c_cart.pop(prod)\n",
    "            return id\n",
    "        \n",
    "    def req_bill(self):\n",
    "        return SuperMarket.cal_bill(self.c_cart)\n"
   ]
  },
  {
   "cell_type": "code",
   "execution_count": null,
   "metadata": {},
   "outputs": [],
   "source": []
  },
  {
   "cell_type": "code",
   "execution_count": 7,
   "metadata": {},
   "outputs": [],
   "source": [
    "class Product:\n",
    "    def __init__(self,p_id,p_name,u_price,total_quantity,offer= None):\n",
    "        self.p_id = p_id\n",
    "        self.p_name = p_name\n",
    "        self.p_price = u_price\n",
    "        self.p_quantity = total_quantity\n",
    "        self.offer =offer\n",
    "        \n",
    "    def remove_product(self):\n",
    "        id = self.p_id\n",
    "        del self\n",
    "        return id\n",
    "    \n",
    "    def change_price(self,new_price):\n",
    "        self.p_price = new_price\n",
    "        \n",
    "    def update_stock(self,current_quantity):\n",
    "        self.p_quantity = current_quantity\n",
    "        \n",
    "    def __str__(self):\n",
    "        return \"{} {}\".format(self.p_id,self.p_name)\n",
    "    \n",
    "    def add_offer(self,offer):\n",
    "        if self.p_id == offer.p_id:\n",
    "            self.offer =offer"
   ]
  },
  {
   "cell_type": "code",
   "execution_count": null,
   "metadata": {},
   "outputs": [],
   "source": []
  },
  {
   "cell_type": "code",
   "execution_count": 10,
   "metadata": {},
   "outputs": [
    {
     "name": "stdout",
     "output_type": "stream",
     "text": [
      "378.0\n"
     ]
    }
   ],
   "source": [
    "\n",
    "\n",
    "p1 = Product(101,\"A\",50,500)\n",
    "p2 = Product(102,\"B\",30,50)\n",
    "p3 = Product(103,\"C\",20,500)\n",
    "\n",
    "offer1 = Offers(11,101,3,120,'25 sep 19')\n",
    "offer2 = Offers(12,102,2,45,'26 sep 19')\n",
    "\n",
    "p1.add_offer(offer1)\n",
    "p2.add_offer(offer2)\n",
    "\n",
    "\n",
    "c1 = Customer(1,\"ABC\",\"+91978456789\")\n",
    "\n",
    "c1.add_to_cart(p1,3)\n",
    "c1.add_to_cart(p2,5)\n",
    "c1.add_to_cart(p1,2)\n",
    "c1.add_to_cart(p3,1)\n",
    "\n",
    "\n",
    "\n",
    "print(c1.req_bill())"
   ]
  },
  {
   "cell_type": "code",
   "execution_count": null,
   "metadata": {},
   "outputs": [],
   "source": []
  },
  {
   "cell_type": "code",
   "execution_count": null,
   "metadata": {},
   "outputs": [],
   "source": []
  },
  {
   "cell_type": "code",
   "execution_count": null,
   "metadata": {},
   "outputs": [],
   "source": []
  },
  {
   "cell_type": "code",
   "execution_count": null,
   "metadata": {},
   "outputs": [],
   "source": []
  },
  {
   "cell_type": "code",
   "execution_count": null,
   "metadata": {},
   "outputs": [],
   "source": []
  },
  {
   "cell_type": "code",
   "execution_count": null,
   "metadata": {},
   "outputs": [],
   "source": []
  },
  {
   "cell_type": "code",
   "execution_count": null,
   "metadata": {},
   "outputs": [],
   "source": []
  },
  {
   "cell_type": "code",
   "execution_count": null,
   "metadata": {},
   "outputs": [],
   "source": []
  },
  {
   "cell_type": "code",
   "execution_count": null,
   "metadata": {},
   "outputs": [],
   "source": []
  },
  {
   "cell_type": "code",
   "execution_count": null,
   "metadata": {},
   "outputs": [],
   "source": []
  },
  {
   "cell_type": "code",
   "execution_count": null,
   "metadata": {},
   "outputs": [],
   "source": []
  }
 ],
 "metadata": {
  "kernelspec": {
   "display_name": "Python 3",
   "language": "python",
   "name": "python3"
  },
  "language_info": {
   "codemirror_mode": {
    "name": "ipython",
    "version": 3
   },
   "file_extension": ".py",
   "mimetype": "text/x-python",
   "name": "python",
   "nbconvert_exporter": "python",
   "pygments_lexer": "ipython3",
   "version": "3.7.3"
  }
 },
 "nbformat": 4,
 "nbformat_minor": 2
}
